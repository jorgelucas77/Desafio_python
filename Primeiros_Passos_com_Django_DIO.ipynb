{
  "nbformat": 4,
  "nbformat_minor": 0,
  "metadata": {
    "colab": {
      "provenance": [],
      "include_colab_link": true
    },
    "kernelspec": {
      "name": "python3",
      "display_name": "Python 3"
    },
    "language_info": {
      "name": "python"
    }
  },
  "cells": [
    {
      "cell_type": "markdown",
      "metadata": {
        "id": "view-in-github",
        "colab_type": "text"
      },
      "source": [
        "<a href=\"https://colab.research.google.com/github/jorgelucas77/Desafio_python/blob/main/Primeiros_Passos_com_Django_DIO.ipynb\" target=\"_parent\"><img src=\"https://colab.research.google.com/assets/colab-badge.svg\" alt=\"Open In Colab\"/></a>"
      ]
    },
    {
      "cell_type": "markdown",
      "source": [
        "Passo 1:\n",
        "\n",
        "Acesse o Google Colab, faça login e crie um notebook. Você pode acessar o google Colab usando o link abaixo. Ou apenas pesquise no Google."
      ],
      "metadata": {
        "id": "pMFNfT8gwSLY"
      }
    },
    {
      "cell_type": "code",
      "execution_count": null,
      "metadata": {
        "colab": {
          "base_uri": "https://localhost:8080/"
        },
        "id": "05-PZ7Q2sGuZ",
        "outputId": "cf8e512e-b035-4b4c-b697-8923c0a4ea5a"
      },
      "outputs": [
        {
          "output_type": "stream",
          "name": "stdout",
          "text": [
            "Looking in indexes: https://pypi.org/simple, https://us-python.pkg.dev/colab-wheels/public/simple/\n",
            "Requirement already satisfied: o in /usr/local/lib/python3.7/dist-packages (0.0.2b2)\n",
            "Requirement already satisfied: django in /usr/local/lib/python3.7/dist-packages (3.2.15)\n",
            "Requirement already satisfied: pytz in /usr/local/lib/python3.7/dist-packages (from django) (2022.2.1)\n",
            "Requirement already satisfied: sqlparse>=0.2.2 in /usr/local/lib/python3.7/dist-packages (from django) (0.4.2)\n",
            "Requirement already satisfied: asgiref<4,>=3.3.2 in /usr/local/lib/python3.7/dist-packages (from django) (3.5.2)\n",
            "Requirement already satisfied: typing-extensions in /usr/local/lib/python3.7/dist-packages (from asgiref<4,>=3.3.2->django) (4.1.1)\n"
          ]
        }
      ],
      "source": [
        "!pip install o django"
      ]
    },
    {
      "cell_type": "markdown",
      "source": [
        "Desde que eu quero mostrar a vocês um exemplo de trabalho. Vou criar um novo projeto. Você pode usar o comando abaixo se não souber como ou se for novo no Django. Usando o '!' no início, você pode executar qualquer comando de terminal linux."
      ],
      "metadata": {
        "id": "S59d8k6Uwj62"
      }
    },
    {
      "cell_type": "code",
      "source": [
        "!django-admin startproject portfolio\n"
      ],
      "metadata": {
        "colab": {
          "base_uri": "https://localhost:8080/"
        },
        "id": "O8dRu7xMwoQW",
        "outputId": "af4b8ba4-15cd-4076-d4f3-b9c4ae36cf9f"
      },
      "execution_count": null,
      "outputs": [
        {
          "output_type": "stream",
          "name": "stdout",
          "text": [
            "\u001b[31;1mCommandError: '/content/portfolio/portfolio/portfolio/portfolio' already exists\n",
            "\u001b[0m"
          ]
        }
      ]
    },
    {
      "cell_type": "markdown",
      "source": [
        "Use ls para verificar sua estrutura de diretórios. Abaixo está a saída do meu projeto.\n",
        "\n",
        "\n"
      ],
      "metadata": {
        "id": "luH7H79Ow0Ql"
      }
    },
    {
      "cell_type": "markdown",
      "source": [
        "Agora lembre-se de alterar seu diretório, ou seja, portfólio não funciona com uma exclamação (!) no Google Colab. Você precisa usar % antes do seu comando."
      ],
      "metadata": {
        "id": "Hocwg7VpxEZ2"
      }
    },
    {
      "cell_type": "code",
      "source": [
        "%cd portfolio/\n"
      ],
      "metadata": {
        "colab": {
          "base_uri": "https://localhost:8080/"
        },
        "id": "RBr9qkJ3xHPH",
        "outputId": "0213b82e-217b-49b5-c223-1a0fe87a22c6"
      },
      "execution_count": null,
      "outputs": [
        {
          "output_type": "stream",
          "name": "stdout",
          "text": [
            "/content/portfolio/portfolio/portfolio\n"
          ]
        }
      ]
    },
    {
      "cell_type": "markdown",
      "source": [
        "Agora a configuração básica do seu projeto Django está feita. Vamos para algo prático:"
      ],
      "metadata": {
        "id": "YCudZv2zxO-_"
      }
    },
    {
      "cell_type": "code",
      "source": [
        "from google.colab.output import eval_js\n",
        "print(eval_js(\"google.colab.kernel.proxyPort(8000)\"))"
      ],
      "metadata": {
        "colab": {
          "base_uri": "https://localhost:8080/",
          "height": 35
        },
        "id": "_z3ffW3UxRdG",
        "outputId": "a923eed0-84d7-4c37-888a-1959751709fc"
      },
      "execution_count": null,
      "outputs": [
        {
          "output_type": "stream",
          "name": "stdout",
          "text": [
            "https://7ukrjmf4sly-496ff2e9c6d22116-8000-colab.googleusercontent.com/\n"
          ]
        }
      ]
    },
    {
      "cell_type": "markdown",
      "source": [
        "Observe que forneci uma porta no código acima. Precisamos usar a mesma porta não. sempre que estiver executando o servidor Django. E precisamos do link para acessar o servidor da nossa máquina local.\n",
        "\n",
        "Além disso, você não pode se conectar diretamente ao servidor de desenvolvimento. precisamos adicioná-lo em ALLOWED_HOSTS, que é uma lista em settings.py."
      ],
      "metadata": {
        "id": "zf9AgRCDxfoP"
      }
    },
    {
      "cell_type": "code",
      "source": [
        "ALLOWED_HOSTS = ['colab.research.google.com']"
      ],
      "metadata": {
        "id": "t91yVknfxiCu"
      },
      "execution_count": null,
      "outputs": []
    },
    {
      "cell_type": "markdown",
      "source": [
        "Agora execute seu servidor usando o código abaixo. E acesse o servidor usando o link do Google Colab que você imprimiu executando o método eval_js anteriormente.\n",
        "\n",
        "NÃO EXECUTE O SERVIDOR USANDO O ENDEREÇO ​​DO SERVIDOR OBTIDOS DEPOIS DE EXECUTAR O COMANDO ABAIXO."
      ],
      "metadata": {
        "id": "rWxpSPtFxkmF"
      }
    },
    {
      "cell_type": "code",
      "source": [
        "!python manage.py runserver 8000\n",
        "  "
      ],
      "metadata": {
        "colab": {
          "base_uri": "https://localhost:8080/"
        },
        "id": "EYNVumg3xn6G",
        "outputId": "1fb6d365-df92-4b71-fcf6-2e433bf1c949"
      },
      "execution_count": null,
      "outputs": [
        {
          "output_type": "stream",
          "name": "stdout",
          "text": [
            "python3: can't open file 'manage.py': [Errno 2] No such file or directory\n"
          ]
        }
      ]
    }
  ]
}